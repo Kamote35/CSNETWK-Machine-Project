{
 "cells": [
  {
   "cell_type": "markdown",
   "metadata": {},
   "source": [
    "Import necessary libraries and initialize the server"
   ]
  },
  {
   "cell_type": "code",
   "execution_count": null,
   "metadata": {},
   "outputs": [],
   "source": [
    "import socket\n",
    "import threading\n",
    "\n",
    "SERVER_PORT = 5050\n",
    "SERVER_ADDRESS = socket.gethostbyname(socket.gethostname())\n",
    "ADDR = (SERVER_ADDRESS, SERVER_PORT)\n",
    "# print(server_address)\n",
    "\n",
    "server = socket.socket(socket.AF_INET, socket.SOCK_STREAM)\n",
    "server.bind(ADDR)"
   ]
  },
  {
   "cell_type": "markdown",
   "metadata": {},
   "source": [
    "Function Defintions"
   ]
  },
  {
   "cell_type": "code",
   "execution_count": null,
   "metadata": {},
   "outputs": [],
   "source": [
    "def handle_client(conn, addr): # function that handles all the communication with the client\n",
    "    pass\n",
    "\n",
    "def start(): # function to start the server\n",
    "    server.listen()\n",
    "    while True:\n",
    "        conn, addr = server.accept()\n",
    "        thread = threading.Thread(target=handle_client, args=(conn, addr))\n",
    "    pass\n",
    "\n",
    "print(f\"[STARTING] Server {SERVER_ADDRESS} is starting...\")\n",
    "start()\n"
   ]
  }
 ],
 "metadata": {
  "language_info": {
   "name": "python"
  }
 },
 "nbformat": 4,
 "nbformat_minor": 2
}
